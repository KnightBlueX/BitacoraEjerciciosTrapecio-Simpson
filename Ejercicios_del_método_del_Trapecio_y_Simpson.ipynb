{
  "nbformat": 4,
  "nbformat_minor": 0,
  "metadata": {
    "colab": {
      "name": "Ejercicios del método del Trapecio y Simpson",
      "provenance": [],
      "collapsed_sections": []
    },
    "kernelspec": {
      "name": "python3",
      "display_name": "Python 3"
    },
    "language_info": {
      "name": "python"
    }
  },
  "cells": [
    {
      "cell_type": "markdown",
      "metadata": {
        "id": "zT6xSVerf8b_"
      },
      "source": [
        "###Método del Trapecio \n",
        "####Ejercicios\n",
        "####Alumno: Fernando Javier Noh Requena \n",
        "####Matricula: 19070052\n",
        "####Semestre y Grupo: 4°B\n"
      ]
    },
    {
      "cell_type": "code",
      "metadata": {
        "colab": {
          "base_uri": "https://localhost:8080/"
        },
        "id": "-H11v6vgf5Fj",
        "outputId": "95d0d2c7-56e3-4d1c-9650-244c2a2a182c"
      },
      "source": [
        "# Integración: Método del Trapecio \n",
        "# Ejercicios Usados: Conjunto de ejercicios 4.4 del libro de Burden\n",
        "\n",
        "#Ejercicio A\n",
        "\n",
        "import math\n",
        "\n",
        "# Ingreso de datos \n",
        "\n",
        "#Función\n",
        "fx = lambda x: x*math.log(x)\n",
        "\n",
        "# Intervalos de integración e interaciones\n",
        "a = 1          #Limite inferior\n",
        "b = 2          #Limite superior\n",
        "tramos = 4     #Iteraciones\n",
        "\n",
        "# Procedimiento con regla del trapecio \n",
        "# Usando tramos equidistantes en intervalo\n",
        "h = (b-a)/tramos# Integración: Método del Trapecio \n",
        "# Ejercicios Usados: Conjunto de ejercicios 4.4 del libro de Burden\n",
        "\n",
        "#Ejercicio A\n",
        "xi = a\n",
        "suma = fx(xi)\n",
        "for i in range(0,tramos-1,1):\n",
        "    xi = xi + h\n",
        "    suma = suma + 2*fx(xi)\n",
        "suma = suma + fx(b)\n",
        "area = h*(suma/2)\n",
        "\n",
        "# Impresión de resultados \n",
        "print('Iteraciones:',tramos)\n",
        "print('El resultado de la integración es:',area)"
      ],
      "execution_count": 32,
      "outputs": [
        {
          "output_type": "stream",
          "text": [
            "Iteraciones: 4\n",
            "El resultado de la integración es: 0.639900477687986\n"
          ],
          "name": "stdout"
        }
      ]
    },
    {
      "cell_type": "code",
      "metadata": {
        "colab": {
          "base_uri": "https://localhost:8080/"
        },
        "id": "AwS0mPIqZ0MM",
        "outputId": "a7f5f2c2-9a75-4613-e385-ac6570e2b1e8"
      },
      "source": [
        "# Integración: Método del Trapecio \n",
        "# Ejercicios Usados: Conjunto de ejercicios 4.4 del libro de Burden\n",
        "\n",
        "#Ejercicio B\n",
        "\n",
        "import math\n",
        "import numpy as np\n",
        "\n",
        "# Ingreso de datos \n",
        "\n",
        "#Función\n",
        "fx = lambda x: x**3*np.exp(x)\n",
        "\n",
        "# Intervalos de integración e interaciones\n",
        "a =-2          #Limite inferior\n",
        "b = 2          #Limite superior\n",
        "tramos = 4     #Iteraciones\n",
        "\n",
        "# Procedimiento con regla del trapecio \n",
        "# Usando tramos equidistantes en intervalo\n",
        "h = (b-a)/tramos\n",
        "xi = a\n",
        "suma = fx(xi)\n",
        "for i in range(0,tramos-1,1):\n",
        "    xi = xi + h\n",
        "    suma = suma + 2*fx(xi)\n",
        "suma = suma + fx(b)\n",
        "area = h*(suma/2)\n",
        "\n",
        "# Impresión de resultados \n",
        "print('Iteraciones:',tramos)\n",
        "print('El resultado de la integración es:',area)"
      ],
      "execution_count": 33,
      "outputs": [
        {
          "output_type": "stream",
          "text": [
            "Iteraciones: 4\n",
            "El resultado de la integración es: 31.365285650063754\n"
          ],
          "name": "stdout"
        }
      ]
    },
    {
      "cell_type": "code",
      "metadata": {
        "colab": {
          "base_uri": "https://localhost:8080/"
        },
        "id": "hSwTjyzAZ0cM",
        "outputId": "a26c4fd0-96e8-43fd-d37c-87f8e6c159ac"
      },
      "source": [
        "# Integración: Método del Trapecio \n",
        "# Ejercicios Usados: Conjunto de ejercicios 4.4 del libro de Burden\n",
        "\n",
        "#Ejercicio C\n",
        "\n",
        "import math\n",
        "\n",
        "# Ingreso de datos \n",
        "\n",
        "#Función\n",
        "fx = lambda x: 2/(x**2+4)\n",
        "\n",
        "# Intervalos de integración e interaciones\n",
        "a = 0          #Limite inferior\n",
        "b = 2          #Limite superior\n",
        "tramos = 6     #Iteraciones\n",
        "\n",
        "# Procedimiento con regla del trapecio \n",
        "# Usando tramos equidistantes en intervalo\n",
        "h = (b-a)/tramos\n",
        "xi = a\n",
        "suma = fx(xi)\n",
        "for i in range(0,tramos-1,1):\n",
        "    xi = xi + h\n",
        "    suma = suma + 2*fx(xi)\n",
        "suma = suma + fx(b)\n",
        "area = h*(suma/2)\n",
        "\n",
        "# Impresión de resultados \n",
        "print('Iteraciones:',tramos)\n",
        "print('El resultado de la integración es:',area)"
      ],
      "execution_count": 34,
      "outputs": [
        {
          "output_type": "stream",
          "text": [
            "Iteraciones: 6\n",
            "El resultado de la integración es: 0.7842407666178157\n"
          ],
          "name": "stdout"
        }
      ]
    },
    {
      "cell_type": "code",
      "metadata": {
        "colab": {
          "base_uri": "https://localhost:8080/"
        },
        "id": "iSM1JcEiZ0jh",
        "outputId": "2396b29a-5c7b-4496-aeae-b8bc7d5aa406"
      },
      "source": [
        "# Integración: Método del Trapecio \n",
        "# Ejercicios Usados: Conjunto de ejercicios 4.4 del libro de Burden\n",
        "\n",
        "#Ejercicio D\n",
        "\n",
        "import math\n",
        "\n",
        "# Ingreso de datos \n",
        "\n",
        "#Función\n",
        "fx = lambda x: x**2*math.cos(x)\n",
        "\n",
        "# Intervalos de integración e interaciones\n",
        "a = 0          #Limite inferior\n",
        "b = math.pi    #Limite superior\n",
        "tramos = 6     #Iteraciones\n",
        "\n",
        "# Procedimiento con regla del trapecio \n",
        "# Usando tramos equidistantes en intervalo\n",
        "h = (b-a)/tramos\n",
        "xi = a\n",
        "suma = fx(xi)\n",
        "for i in range(0,tramos-1,1):\n",
        "    xi = xi + h\n",
        "    suma = suma + 2*fx(xi)\n",
        "suma = suma + fx(b)\n",
        "area = h*(suma/2)\n",
        "\n",
        "# Impresión de resultados \n",
        "print('Iteraciones:',tramos)\n",
        "print('El resultado de la integración es:',area)"
      ],
      "execution_count": 35,
      "outputs": [
        {
          "output_type": "stream",
          "text": [
            "Iteraciones: 6\n",
            "El resultado de la integración es: -6.428722218023164\n"
          ],
          "name": "stdout"
        }
      ]
    },
    {
      "cell_type": "code",
      "metadata": {
        "colab": {
          "base_uri": "https://localhost:8080/"
        },
        "id": "kvmZYPcvZ0rZ",
        "outputId": "40d94529-1ce1-489e-d486-7538a5861d36"
      },
      "source": [
        "# Integración: Método del Trapecio \n",
        "# Ejercicios Usados: Conjunto de ejercicios 4.4 del libro de Burden\n",
        "\n",
        "#Ejercicio E\n",
        "\n",
        "import math\n",
        "import numpy as np\n",
        "\n",
        "# Ingreso de datos \n",
        "\n",
        "#Función\n",
        "fx = lambda x: np.exp(2*x)*math.sin(3*x)\n",
        "\n",
        "# Intervalos de integración e interaciones\n",
        "a = 0          #Limite inferior\n",
        "b = 2          #Limite superior\n",
        "tramos = 8     #Iteraciones\n",
        "\n",
        "# Procedimiento con regla del trapecio \n",
        "# Usando tramos equidistantes en intervalo\n",
        "h = (b-a)/tramos\n",
        "xi = a\n",
        "suma = fx(xi)\n",
        "for i in range(0,tramos-1,1):\n",
        "    xi = xi + h\n",
        "    suma = suma + 2*fx(xi)\n",
        "suma = suma + fx(b)\n",
        "area = h*(suma/2)\n",
        "\n",
        "# Impresión de resultados \n",
        "print('Iteraciones:',tramos)\n",
        "print('El resultado de la integración es:',area)"
      ],
      "execution_count": 36,
      "outputs": [
        {
          "output_type": "stream",
          "text": [
            "Iteraciones: 8\n",
            "El resultado de la integración es: -13.575979391799388\n"
          ],
          "name": "stdout"
        }
      ]
    },
    {
      "cell_type": "markdown",
      "metadata": {
        "id": "Q2iHOj6xniJH"
      },
      "source": [
        "###Método de Simpson\n",
        "####Ejercicios"
      ]
    },
    {
      "cell_type": "code",
      "metadata": {
        "colab": {
          "base_uri": "https://localhost:8080/"
        },
        "id": "mxlCTPN2nhKR",
        "outputId": "ac564e90-cf46-4ccb-e87d-13bcaaf991ca"
      },
      "source": [
        "# Integración: Método de Simpson \n",
        "# Ejercicios Usados: Conjunto de ejercicios 4.4 del libro de Burden\n",
        "\n",
        "#Ejercicio A\n",
        "\n",
        "import math\n",
        "# Ingreso de datos:\n",
        "\n",
        "#Función\n",
        "fx = lambda x: x*math.log(x)\n",
        "\n",
        "# Intervalo de integración e iteraciones \n",
        "a = 1            #Limite inferior\n",
        "b = 2            #Limite superior\n",
        "tramos = 4       #Iteraciones\n",
        "\n",
        "# Procedimiento\n",
        "# Validamos tramos par con la regla de Simpson \n",
        "h = (b-a)/tramos\n",
        "xi = a\n",
        "area = 0\n",
        "for i in range(0,tramos,2):\n",
        "    deltaA = (h/3)*(fx(xi)+4*fx(xi+h)+fx(xi+2*h))\n",
        "    area = area + deltaA\n",
        "    xi = xi + 2*h\n",
        "\n",
        "# SALIDA\n",
        "print('Iteraciones:',tramos)\n",
        "print('El resultado de la integración es:',area)"
      ],
      "execution_count": 31,
      "outputs": [
        {
          "output_type": "stream",
          "text": [
            "Iteraciones: 4\n",
            "El resultado de la integración es: 0.6363098297969493\n"
          ],
          "name": "stdout"
        }
      ]
    },
    {
      "cell_type": "code",
      "metadata": {
        "colab": {
          "base_uri": "https://localhost:8080/"
        },
        "id": "HaUsAg8FqAX3",
        "outputId": "4ae35384-1b5f-4efa-eff9-698f3f7c7a4f"
      },
      "source": [
        "# Integración: Método de Simpson \n",
        "# Ejercicios Usados: Conjunto de ejercicios 4.4 del libro de Burden\n",
        "\n",
        "#Ejercicio B\n",
        "\n",
        "import math\n",
        "import numpy as np\n",
        "\n",
        "# Ingreso de datos:\n",
        "\n",
        "#Función\n",
        "fx = lambda x:  x**3*np.exp(x)\n",
        "\n",
        "# Intervalo de integración e iteraciones \n",
        "a =-2            #Limite inferior\n",
        "b = 2            #Limite superior\n",
        "tramos = 4       #Iteraciones\n",
        "\n",
        "# Procedimiento\n",
        "# Validamos tramos par con la regla de Simpson \n",
        "h = (b-a)/tramos\n",
        "xi = a\n",
        "area = 0\n",
        "for i in range(0,tramos,2):\n",
        "    deltaA = (h/3)*(fx(xi)+4*fx(xi+h)+fx(xi+2*h))\n",
        "    area = area + deltaA\n",
        "    xi = xi + 2*h\n",
        "\n",
        "# SALIDA\n",
        "print('Iteraciones:', tramos)\n",
        "print('El resultado de la integración es:',area)"
      ],
      "execution_count": 38,
      "outputs": [
        {
          "output_type": "stream",
          "text": [
            "Iteraciones: 4\n",
            "El resultado de la integración es: 22.477125358234236\n"
          ],
          "name": "stdout"
        }
      ]
    },
    {
      "cell_type": "code",
      "metadata": {
        "colab": {
          "base_uri": "https://localhost:8080/"
        },
        "id": "XkzdgyzYqAi9",
        "outputId": "e7210187-0211-4d0c-b18e-82e4c91443fb"
      },
      "source": [
        "# Integración: Método de Simpson \n",
        "# Ejercicios Usados: Conjunto de ejercicios 4.4 del libro de Burden\n",
        "\n",
        "#Ejercicio C\n",
        "\n",
        "import math\n",
        "# Ingreso de datos:\n",
        "\n",
        "#Función\n",
        "fx = lambda x: 2/(x**2+4)\n",
        "\n",
        "# Intervalo de integración e iteraciones \n",
        "a = 0            #Limite inferior\n",
        "b = 2            #Limite superior\n",
        "tramos = 6       #Iteraciones\n",
        "\n",
        "# Procedimiento\n",
        "# Validamos tramos par con la regla de Simpson \n",
        "h = (b-a)/tramos\n",
        "xi = a\n",
        "area = 0\n",
        "for i in range(0,tramos,2):\n",
        "    deltaA = (h/3)*(fx(xi)+4*fx(xi+h)+fx(xi+2*h))\n",
        "    area = area + deltaA\n",
        "    xi = xi + 2*h\n",
        "\n",
        "# SALIDA\n",
        "print('Iteraciones:', tramos)\n",
        "print('El resultado de la integración es:',area)"
      ],
      "execution_count": 29,
      "outputs": [
        {
          "output_type": "stream",
          "text": [
            "Iteraciones: 6\n",
            "El resultado de la integración es: 0.7853979452340109\n"
          ],
          "name": "stdout"
        }
      ]
    },
    {
      "cell_type": "code",
      "metadata": {
        "colab": {
          "base_uri": "https://localhost:8080/"
        },
        "id": "rmY873aTqAph",
        "outputId": "8be8947e-4389-46cd-bfd8-0e8808696fe2"
      },
      "source": [
        "# Integración: Método de Simpson \n",
        "# Ejercicios Usados: Conjunto de ejercicios 4.4 del libro de Burden\n",
        "\n",
        "#Ejercicio D\n",
        "\n",
        "import math\n",
        "# Ingreso de datos:\n",
        "\n",
        "#Función\n",
        "fx = lambda x: x**2*math.cos(x)\n",
        "\n",
        "# Intervalo de integración e iteraciones \n",
        "a = 0            #Limite inferior\n",
        "b = math.pi      #Limite superior\n",
        "tramos = 6       #Iteraciones\n",
        "\n",
        "# Procedimiento\n",
        "# Validamos tramos par con la regla de Simpson \n",
        "h = (b-a)/tramos\n",
        "xi = a\n",
        "area = 0\n",
        "for i in range(0,tramos,2):\n",
        "    deltaA = (h/3)*(fx(xi)+4*fx(xi+h)+fx(xi+2*h))\n",
        "    area = area + deltaA\n",
        "    xi = xi + 2*h\n",
        "\n",
        "# SALIDA\n",
        "print('Iteraciones:',tramos)\n",
        "print('El resultado de la integración es:',area)"
      ],
      "execution_count": 28,
      "outputs": [
        {
          "output_type": "stream",
          "text": [
            "Iteraciones: 6\n",
            "El resultado de la integración es: -6.274868388453121\n"
          ],
          "name": "stdout"
        }
      ]
    },
    {
      "cell_type": "code",
      "metadata": {
        "colab": {
          "base_uri": "https://localhost:8080/"
        },
        "id": "0w_XoTNKqAtX",
        "outputId": "a61ada9f-7af6-437d-c249-b21fe1cb406c"
      },
      "source": [
        "# Integración: Método de Simpson \n",
        "# Ejercicios Usados: Conjunto de ejercicios 4.4 del libro de Burden\n",
        "\n",
        "#Ejercicio E\n",
        "\n",
        "import math\n",
        "import numpy as np\n",
        "\n",
        "# Ingreso de datos:\n",
        "\n",
        "#Función\n",
        "fx = lambda x: np.exp(2*x)*math.sin(3*x)\n",
        "\n",
        "# Intervalo de integración e iteraciones \n",
        "a = 0            #Limite inferior\n",
        "b = 2            #Limite superior\n",
        "tramos = 8       #Iteraciones\n",
        "\n",
        "# Procedimiento\n",
        "# Validamos tramos par con la regla de Simpson \n",
        "h = (b-a)/tramos\n",
        "xi = a\n",
        "area = 0\n",
        "for i in range(0,tramos,2):\n",
        "    deltaA = (h/3)*(fx(xi)+4*fx(xi+h)+fx(xi+2*h))\n",
        "    area = area + deltaA\n",
        "    xi = xi + 2*h\n",
        "\n",
        "# SALIDA\n",
        "print('Iteraciones:', tramos)\n",
        "print('El resultado de la integración es:',area)"
      ],
      "execution_count": 27,
      "outputs": [
        {
          "output_type": "stream",
          "text": [
            "Iteraciones: 8\n",
            "El resultado de la integración es: -14.183341561446694\n"
          ],
          "name": "stdout"
        }
      ]
    }
  ]
}